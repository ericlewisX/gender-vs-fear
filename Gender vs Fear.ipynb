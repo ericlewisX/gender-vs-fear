{
 "cells": [
  {
   "cell_type": "markdown",
   "id": "ddcfb96b",
   "metadata": {
    "slideshow": {
     "slide_type": "slide"
    }
   },
   "source": [
    "# Gender vs Phobias\n",
    "\n",
    "\n",
    "### Author : Eric H. Lewis\n",
    "\n",
    "Last update: 6/11/2021"
   ]
  },
  {
   "cell_type": "markdown",
   "id": "5b413bb6",
   "metadata": {
    "slideshow": {
     "slide_type": "slide"
    }
   },
   "source": [
    "## Table of Contents \n",
    "\n",
    "* Objective / Use-Cases\n",
    "* Data / Data Cleaning\n",
    "* Exploratory Data Analysis\n",
    "    * Hypothesis Testing\n",
    "* Results\n",
    "* Conclusions"
   ]
  },
  {
   "cell_type": "markdown",
   "id": "e325f3b9",
   "metadata": {
    "slideshow": {
     "slide_type": "slide"
    }
   },
   "source": [
    "## Objective \n",
    "\n",
    "---\n",
    "\n",
    "Is there power in key demographics?\n",
    "\n",
    "_ |_\n",
    ":-------------------------:|:-------------------------:\n",
    "![Imgur](https://i.imgur.com/sshvZGd.png)| ![Imgur](https://i.imgur.com/K4AabGL.png)"
   ]
  },
  {
   "cell_type": "markdown",
   "id": "d56915b0",
   "metadata": {
    "slideshow": {
     "slide_type": "slide"
    }
   },
   "source": [
    "## Data & Data Cleaning \n",
    "\n",
    "The data that is being used is the [Young People Survey](https://www.kaggle.com/miroslavsabo/young-people-survey?select=responses.csv) dataset. \n",
    "Students of the Statistics class at FSEV UK in Slovakia asked people they knew to participate in the survey.\n",
    "\n",
    "* Over 1000 survey participants.\n",
    "* Electronic and Written form.\n",
    "* All participants were of Slovakian nationality, aged between 15-30\n",
    "\n",
    "\n",
    "\n"
   ]
  },
  {
   "cell_type": "markdown",
   "id": "6f119960",
   "metadata": {
    "slideshow": {
     "slide_type": "slide"
    }
   },
   "source": [
    "## Feature Selection\n",
    "\n",
    "Demographics of Interest\n",
    "\n",
    "* Gender\n",
    "\n",
    "Category\n",
    "* Phobias\n",
    "\n",
    "Demographics not Chosen\n",
    "* Age"
   ]
  },
  {
   "cell_type": "markdown",
   "id": "433686ca",
   "metadata": {
    "hide_input": false,
    "slideshow": {
     "slide_type": "slide"
    }
   },
   "source": [
    "#### Demographics that were not chosen:\n",
    "_ |_\n",
    ":-------------------------:|:-------------------------:\n",
    "![Imgur](https://i.imgur.com/O33bAmX.png) | ![Imgur](https://i.imgur.com/9QKhE8B.png)\n"
   ]
  },
  {
   "cell_type": "code",
   "execution_count": null,
   "id": "530243d3",
   "metadata": {
    "hide_input": false,
    "slideshow": {
     "slide_type": "-"
    }
   },
   "outputs": [],
   "source": [
    "## TODO subplots\n",
    "\n",
    "\n",
    "## Histogram\n",
    "plt.hist(demographics['Age'], bins = 16, align='right', color='b', edgecolor='black',\n",
    "              linewidth=1)\n",
    "\n",
    "plt.xlim(14, 31)\n",
    "plt.ylim(0, 225)\n",
    "\n",
    "plt.xlabel(\"Years Old\")\n",
    "plt.ylabel(\"Frequency\")\n",
    "plt.title(\"Age Distribution of Survey Participants\")\n",
    "plt.show()\n",
    "plt.savefig('img/age_dist.jpeg')\n",
    "\n",
    "\n",
    "# Pie chart, where the slices will be ordered and plotted counter-clockwise:\n",
    "labels = ['15 yr', '16 yr', '17 yr', '18 yr', '19 yr', '20 yr', '21 yr', '22 yr', '23 yr', '24 yr', '25 yr', '26 yr', '27 yr', '28 yr', '29 yr', '30 yr']\n",
    "sizes = np.array([demographics['Age'].value_counts(normalize=True).sort_index()]).flatten()\n",
    "explode = (0.1, 0.1, 0.1, 0, 0, 0, 0, 0.1, 0.1, 0.1, 0.1 ,0.1 ,0.1 ,0.1 ,0.1 ,0.1) \n",
    "# only \"explode\" the 2nd slice (i.e. 'Hogs')\n",
    "\n",
    "fig1, ax1 = plt.subplots(figsize = (7, 9.5))\n",
    "ax1.pie(sizes, explode=explode, labels=labels, autopct='%1.1f%%',\n",
    "        shadow=True, startangle= 0)\n",
    "ax1.axis('equal')  # Equal aspect ratio ensures that pie is drawn as a circle.\n",
    "\n",
    "# ax1.title('Age')\n",
    "ax1.legend(loc = \"lower center\", framealpha=1, ncol = 8, borderpad =1, shadow=True)\n",
    "\n",
    "plt.title('Age of Survey Participants', loc='center', y = .90)\n",
    "plt.show()\n",
    "plt.savefig('img/age_pie.png')\n",
    "\n",
    "\n",
    "sns.set_theme(style=\"darkgrid\")\n",
    "ax = sns.countplot(x = phobias1['Gender'], data=phobias1)\n"
   ]
  },
  {
   "cell_type": "markdown",
   "id": "bf71d105",
   "metadata": {
    "slideshow": {
     "slide_type": "slide"
    }
   },
   "source": [
    "###### Data Sample\n",
    "\n",
    "![Imgur](https://i.imgur.com/8zgInip.png)\n",
    "\n",
    "\n",
    "\n",
    "![Imgur](https://i.imgur.com/0w8HGA2.png)"
   ]
  },
  {
   "cell_type": "markdown",
   "id": "f12fca2c",
   "metadata": {
    "slideshow": {
     "slide_type": "slide"
    }
   },
   "source": [
    "## Exploratory Data Analysis\n",
    "### Hypothesis Testing\n",
    "\n",
    "\n",
    "\n",
    "###### Null Hypothesis:\n",
    "    \n",
    "$H_0$ : Phobias are independent of a person's Gender.\n",
    "    \n",
    "\n",
    "###### Alternate Hypothesis:\n",
    "\n",
    "\n",
    "$H_1$ : Phobias and Gender are not independent and there exists a relationship between them.\n",
    "\n"
   ]
  },
  {
   "cell_type": "markdown",
   "id": "4996f8ad",
   "metadata": {
    "hide_input": true,
    "slideshow": {
     "slide_type": "slide"
    }
   },
   "source": [
    "\n",
    "## $\\chi^2$ test of independence \n",
    "\n",
    "$$\\chi^2 = \\sum \\frac{(O_i - E_i)^2}{E_i}$$\n",
    "\n",
    "$$\\alpha = 0.05 $$ \n",
    "\n",
    "\n",
    "## Bonferroni Corrected p-value\n",
    "\n",
    "$$Bonferroni \\ corrected \\ p-value = \\frac{p_0}{n}$$\n",
    "\n",
    "$$where: \\ \\ \\ \\ p_0 = original \\ p-value$$ \n",
    "$$n = \\# \\ of \\ tests \\ performed$$ "
   ]
  },
  {
   "cell_type": "markdown",
   "id": "1234eebc",
   "metadata": {
    "slideshow": {
     "slide_type": "slide"
    }
   },
   "source": [
    "_ |_\n",
    ":-------------------------:|:-------------------------:\n",
    "![Imgur](https://i.imgur.com/3skCNll.png) | ![Imgur](https://i.imgur.com/55i3dFx.png)"
   ]
  },
  {
   "cell_type": "markdown",
   "id": "90a07445",
   "metadata": {
    "hide_input": true,
    "slideshow": {
     "slide_type": "slide"
    }
   },
   "source": [
    "## Cross Tabulation \n",
    "_ |_\n",
    ":-------------------------:|:-------------------------:\n",
    "![Imgur](https://i.imgur.com/IfMXRxj.png) |![Imgur](https://i.imgur.com/eqLbPEA.png)\n",
    "\n",
    "<!-- <img src=\"img/gendervsflying.png\" width=\"350\" align=\"center\"/>\n",
    "<img src=\"img/Fear2.png\" width=\"500\" align=\"center\"/> -->"
   ]
  },
  {
   "cell_type": "markdown",
   "id": "ac0b977f",
   "metadata": {
    "slideshow": {
     "slide_type": "slide"
    }
   },
   "source": [
    "## crosstab_chi2\n",
    "\n",
    "![Imgur](https://i.imgur.com/xFHZL3j.png)\n",
    "\n",
    "## Crosstab Output\n",
    "\n",
    "![Imgur](https://i.imgur.com/bNOgM4U.png)\n"
   ]
  },
  {
   "cell_type": "markdown",
   "id": "715124d0",
   "metadata": {
    "slideshow": {
     "slide_type": "slide"
    }
   },
   "source": [
    "## bonferroni_adjustment\n",
    "\n",
    "![Imgur](https://i.imgur.com/TfilGMe.png)"
   ]
  },
  {
   "cell_type": "markdown",
   "id": "ed847245",
   "metadata": {
    "slideshow": {
     "slide_type": "slide"
    }
   },
   "source": [
    "### Results\n",
    "\n",
    "|  Original Alpha | Corrected Alpha for Bonferroni method |\n",
    "| :---: | :---: |\n",
    "| 0.05 | 0.004545454545454546 |\n",
    "\n",
    "| Gender vs Phobia | Original p-val | Bonferroni Corrected p-val| Reject Null? |\n",
    "| :---: | :---: | :---: | :---: |\n",
    "| Flying             | 7.208e-04  | 7.93e-03 | True |\n",
    "| Thunder, Lightning | 4.6241𝑒−22 | 5.09e-21 | True |\n",
    "| Darkness           | 9.9074𝑒−23 | 1.09e-21 | True |\n",
    "| Heights            | 0.0989     | 1.0      | False|\n",
    "| Spiders            | 6.432𝑒−24  | 7.08e-23 | True |\n",
    "| Snakes             | 1.531𝑒−11  | 1.68e-10 | True |\n",
    "| Rats, Mice         | 2.724𝑒−15  | 2.99e-14 | True |\n",
    "| Ageing             | 1.289𝑒−05  | 1.42e-04 | True |\n",
    "| Dangerous Dogs     | 6.972𝑒−10  | 7.67e-09 | True |\n",
    "| Public Speaking    | 2.502e-04  | 2.75e-03 | True |\n"
   ]
  },
  {
   "cell_type": "markdown",
   "id": "c8f6e3d6",
   "metadata": {
    "slideshow": {
     "slide_type": "slide"
    }
   },
   "source": [
    "## Conclusions\n",
    "\n",
    "There is a relationship between the Gender demographics and a person's phobias.\n",
    "\n",
    "* Future-Steps "
   ]
  },
  {
   "cell_type": "markdown",
   "id": "a45d3ed4",
   "metadata": {
    "slideshow": {
     "slide_type": "slide"
    }
   },
   "source": [
    "# The End"
   ]
  },
  {
   "cell_type": "markdown",
   "id": "e0899c52",
   "metadata": {
    "slideshow": {
     "slide_type": "subslide"
    }
   },
   "source": [
    "## Code"
   ]
  },
  {
   "cell_type": "code",
   "execution_count": 1,
   "id": "e3fc2f75",
   "metadata": {
    "slideshow": {
     "slide_type": "-"
    }
   },
   "outputs": [],
   "source": [
    "import pandas as pd\n",
    "from scipy import stats\n",
    "\n",
    "import numpy as np\n",
    "import seaborn as sns\n",
    "import statsmodels as sm\n",
    "\n",
    "import matplotlib.pyplot as plt\n",
    "import csv\n",
    "\n",
    "from IPython.display import display, Math\n",
    "from mpl_toolkits.mplot3d import Axes3D"
   ]
  },
  {
   "cell_type": "code",
   "execution_count": 2,
   "id": "036fece0",
   "metadata": {},
   "outputs": [],
   "source": [
    "with open('archive/columns.csv', newline='') as csvfile:\n",
    "    reader = csv.reader(csvfile)\n",
    "    with open('archive/columns_dict.csv', mode='w') as outfile:\n",
    "        writer = csv.writer(outfile)\n",
    "        mydict = {rows[1]:rows[0] for rows in reader}"
   ]
  },
  {
   "cell_type": "code",
   "execution_count": 3,
   "id": "f4914f27",
   "metadata": {},
   "outputs": [
    {
     "data": {
      "text/html": [
       "<div>\n",
       "<style scoped>\n",
       "    .dataframe tbody tr th:only-of-type {\n",
       "        vertical-align: middle;\n",
       "    }\n",
       "\n",
       "    .dataframe tbody tr th {\n",
       "        vertical-align: top;\n",
       "    }\n",
       "\n",
       "    .dataframe thead th {\n",
       "        text-align: right;\n",
       "    }\n",
       "</style>\n",
       "<table border=\"1\" class=\"dataframe\">\n",
       "  <thead>\n",
       "    <tr style=\"text-align: right;\">\n",
       "      <th></th>\n",
       "      <th>Music</th>\n",
       "      <th>Slow songs or fast songs</th>\n",
       "      <th>Dance</th>\n",
       "      <th>Folk</th>\n",
       "      <th>Country</th>\n",
       "      <th>Classical music</th>\n",
       "      <th>Musical</th>\n",
       "      <th>Pop</th>\n",
       "      <th>Rock</th>\n",
       "      <th>Metal or Hardrock</th>\n",
       "      <th>...</th>\n",
       "      <th>Shopping centres</th>\n",
       "      <th>Branded clothing</th>\n",
       "      <th>Entertainment spending</th>\n",
       "      <th>Spending on looks</th>\n",
       "      <th>Spending on gadgets</th>\n",
       "      <th>Spending on healthy eating</th>\n",
       "      <th>Age</th>\n",
       "      <th>Height</th>\n",
       "      <th>Weight</th>\n",
       "      <th>Number of siblings</th>\n",
       "    </tr>\n",
       "  </thead>\n",
       "  <tbody>\n",
       "    <tr>\n",
       "      <th>count</th>\n",
       "      <td>1007.000000</td>\n",
       "      <td>1008.000000</td>\n",
       "      <td>1006.000000</td>\n",
       "      <td>1005.000000</td>\n",
       "      <td>1005.000000</td>\n",
       "      <td>1003.000000</td>\n",
       "      <td>1008.000000</td>\n",
       "      <td>1007.000000</td>\n",
       "      <td>1004.000000</td>\n",
       "      <td>1007.000000</td>\n",
       "      <td>...</td>\n",
       "      <td>1008.000000</td>\n",
       "      <td>1008.000000</td>\n",
       "      <td>1007.000000</td>\n",
       "      <td>1007.000000</td>\n",
       "      <td>1010.000000</td>\n",
       "      <td>1008.00000</td>\n",
       "      <td>1003.000000</td>\n",
       "      <td>990.000000</td>\n",
       "      <td>990.000000</td>\n",
       "      <td>1004.000000</td>\n",
       "    </tr>\n",
       "    <tr>\n",
       "      <th>mean</th>\n",
       "      <td>4.731877</td>\n",
       "      <td>3.328373</td>\n",
       "      <td>3.113320</td>\n",
       "      <td>2.288557</td>\n",
       "      <td>2.123383</td>\n",
       "      <td>2.956132</td>\n",
       "      <td>2.761905</td>\n",
       "      <td>3.471698</td>\n",
       "      <td>3.761952</td>\n",
       "      <td>2.361470</td>\n",
       "      <td>...</td>\n",
       "      <td>3.234127</td>\n",
       "      <td>3.050595</td>\n",
       "      <td>3.201589</td>\n",
       "      <td>3.106256</td>\n",
       "      <td>2.870297</td>\n",
       "      <td>3.55754</td>\n",
       "      <td>20.433699</td>\n",
       "      <td>173.514141</td>\n",
       "      <td>66.405051</td>\n",
       "      <td>1.297809</td>\n",
       "    </tr>\n",
       "    <tr>\n",
       "      <th>std</th>\n",
       "      <td>0.664049</td>\n",
       "      <td>0.833931</td>\n",
       "      <td>1.170568</td>\n",
       "      <td>1.138916</td>\n",
       "      <td>1.076136</td>\n",
       "      <td>1.252570</td>\n",
       "      <td>1.260845</td>\n",
       "      <td>1.161400</td>\n",
       "      <td>1.184861</td>\n",
       "      <td>1.372995</td>\n",
       "      <td>...</td>\n",
       "      <td>1.323062</td>\n",
       "      <td>1.306321</td>\n",
       "      <td>1.188947</td>\n",
       "      <td>1.205368</td>\n",
       "      <td>1.284970</td>\n",
       "      <td>1.09375</td>\n",
       "      <td>2.828840</td>\n",
       "      <td>10.024505</td>\n",
       "      <td>13.839561</td>\n",
       "      <td>1.013348</td>\n",
       "    </tr>\n",
       "    <tr>\n",
       "      <th>min</th>\n",
       "      <td>1.000000</td>\n",
       "      <td>1.000000</td>\n",
       "      <td>1.000000</td>\n",
       "      <td>1.000000</td>\n",
       "      <td>1.000000</td>\n",
       "      <td>1.000000</td>\n",
       "      <td>1.000000</td>\n",
       "      <td>1.000000</td>\n",
       "      <td>1.000000</td>\n",
       "      <td>1.000000</td>\n",
       "      <td>...</td>\n",
       "      <td>1.000000</td>\n",
       "      <td>1.000000</td>\n",
       "      <td>1.000000</td>\n",
       "      <td>1.000000</td>\n",
       "      <td>1.000000</td>\n",
       "      <td>1.00000</td>\n",
       "      <td>15.000000</td>\n",
       "      <td>62.000000</td>\n",
       "      <td>41.000000</td>\n",
       "      <td>0.000000</td>\n",
       "    </tr>\n",
       "    <tr>\n",
       "      <th>25%</th>\n",
       "      <td>5.000000</td>\n",
       "      <td>3.000000</td>\n",
       "      <td>2.000000</td>\n",
       "      <td>1.000000</td>\n",
       "      <td>1.000000</td>\n",
       "      <td>2.000000</td>\n",
       "      <td>2.000000</td>\n",
       "      <td>3.000000</td>\n",
       "      <td>3.000000</td>\n",
       "      <td>1.000000</td>\n",
       "      <td>...</td>\n",
       "      <td>2.000000</td>\n",
       "      <td>2.000000</td>\n",
       "      <td>2.000000</td>\n",
       "      <td>2.000000</td>\n",
       "      <td>2.000000</td>\n",
       "      <td>3.00000</td>\n",
       "      <td>19.000000</td>\n",
       "      <td>167.000000</td>\n",
       "      <td>55.000000</td>\n",
       "      <td>1.000000</td>\n",
       "    </tr>\n",
       "    <tr>\n",
       "      <th>50%</th>\n",
       "      <td>5.000000</td>\n",
       "      <td>3.000000</td>\n",
       "      <td>3.000000</td>\n",
       "      <td>2.000000</td>\n",
       "      <td>2.000000</td>\n",
       "      <td>3.000000</td>\n",
       "      <td>3.000000</td>\n",
       "      <td>4.000000</td>\n",
       "      <td>4.000000</td>\n",
       "      <td>2.000000</td>\n",
       "      <td>...</td>\n",
       "      <td>3.000000</td>\n",
       "      <td>3.000000</td>\n",
       "      <td>3.000000</td>\n",
       "      <td>3.000000</td>\n",
       "      <td>3.000000</td>\n",
       "      <td>4.00000</td>\n",
       "      <td>20.000000</td>\n",
       "      <td>173.000000</td>\n",
       "      <td>64.000000</td>\n",
       "      <td>1.000000</td>\n",
       "    </tr>\n",
       "    <tr>\n",
       "      <th>75%</th>\n",
       "      <td>5.000000</td>\n",
       "      <td>4.000000</td>\n",
       "      <td>4.000000</td>\n",
       "      <td>3.000000</td>\n",
       "      <td>3.000000</td>\n",
       "      <td>4.000000</td>\n",
       "      <td>4.000000</td>\n",
       "      <td>4.000000</td>\n",
       "      <td>5.000000</td>\n",
       "      <td>3.000000</td>\n",
       "      <td>...</td>\n",
       "      <td>4.000000</td>\n",
       "      <td>4.000000</td>\n",
       "      <td>4.000000</td>\n",
       "      <td>4.000000</td>\n",
       "      <td>4.000000</td>\n",
       "      <td>4.00000</td>\n",
       "      <td>22.000000</td>\n",
       "      <td>180.000000</td>\n",
       "      <td>75.000000</td>\n",
       "      <td>2.000000</td>\n",
       "    </tr>\n",
       "    <tr>\n",
       "      <th>max</th>\n",
       "      <td>5.000000</td>\n",
       "      <td>5.000000</td>\n",
       "      <td>5.000000</td>\n",
       "      <td>5.000000</td>\n",
       "      <td>5.000000</td>\n",
       "      <td>5.000000</td>\n",
       "      <td>5.000000</td>\n",
       "      <td>5.000000</td>\n",
       "      <td>5.000000</td>\n",
       "      <td>5.000000</td>\n",
       "      <td>...</td>\n",
       "      <td>5.000000</td>\n",
       "      <td>5.000000</td>\n",
       "      <td>5.000000</td>\n",
       "      <td>5.000000</td>\n",
       "      <td>5.000000</td>\n",
       "      <td>5.00000</td>\n",
       "      <td>30.000000</td>\n",
       "      <td>203.000000</td>\n",
       "      <td>165.000000</td>\n",
       "      <td>10.000000</td>\n",
       "    </tr>\n",
       "  </tbody>\n",
       "</table>\n",
       "<p>8 rows × 139 columns</p>\n",
       "</div>"
      ],
      "text/plain": [
       "             Music  Slow songs or fast songs        Dance         Folk  \\\n",
       "count  1007.000000               1008.000000  1006.000000  1005.000000   \n",
       "mean      4.731877                  3.328373     3.113320     2.288557   \n",
       "std       0.664049                  0.833931     1.170568     1.138916   \n",
       "min       1.000000                  1.000000     1.000000     1.000000   \n",
       "25%       5.000000                  3.000000     2.000000     1.000000   \n",
       "50%       5.000000                  3.000000     3.000000     2.000000   \n",
       "75%       5.000000                  4.000000     4.000000     3.000000   \n",
       "max       5.000000                  5.000000     5.000000     5.000000   \n",
       "\n",
       "           Country  Classical music      Musical          Pop         Rock  \\\n",
       "count  1005.000000      1003.000000  1008.000000  1007.000000  1004.000000   \n",
       "mean      2.123383         2.956132     2.761905     3.471698     3.761952   \n",
       "std       1.076136         1.252570     1.260845     1.161400     1.184861   \n",
       "min       1.000000         1.000000     1.000000     1.000000     1.000000   \n",
       "25%       1.000000         2.000000     2.000000     3.000000     3.000000   \n",
       "50%       2.000000         3.000000     3.000000     4.000000     4.000000   \n",
       "75%       3.000000         4.000000     4.000000     4.000000     5.000000   \n",
       "max       5.000000         5.000000     5.000000     5.000000     5.000000   \n",
       "\n",
       "       Metal or Hardrock  ...  Shopping centres  Branded clothing  \\\n",
       "count        1007.000000  ...       1008.000000       1008.000000   \n",
       "mean            2.361470  ...          3.234127          3.050595   \n",
       "std             1.372995  ...          1.323062          1.306321   \n",
       "min             1.000000  ...          1.000000          1.000000   \n",
       "25%             1.000000  ...          2.000000          2.000000   \n",
       "50%             2.000000  ...          3.000000          3.000000   \n",
       "75%             3.000000  ...          4.000000          4.000000   \n",
       "max             5.000000  ...          5.000000          5.000000   \n",
       "\n",
       "       Entertainment spending  Spending on looks  Spending on gadgets  \\\n",
       "count             1007.000000        1007.000000          1010.000000   \n",
       "mean                 3.201589           3.106256             2.870297   \n",
       "std                  1.188947           1.205368             1.284970   \n",
       "min                  1.000000           1.000000             1.000000   \n",
       "25%                  2.000000           2.000000             2.000000   \n",
       "50%                  3.000000           3.000000             3.000000   \n",
       "75%                  4.000000           4.000000             4.000000   \n",
       "max                  5.000000           5.000000             5.000000   \n",
       "\n",
       "       Spending on healthy eating          Age      Height      Weight  \\\n",
       "count                  1008.00000  1003.000000  990.000000  990.000000   \n",
       "mean                      3.55754    20.433699  173.514141   66.405051   \n",
       "std                       1.09375     2.828840   10.024505   13.839561   \n",
       "min                       1.00000    15.000000   62.000000   41.000000   \n",
       "25%                       3.00000    19.000000  167.000000   55.000000   \n",
       "50%                       4.00000    20.000000  173.000000   64.000000   \n",
       "75%                       4.00000    22.000000  180.000000   75.000000   \n",
       "max                       5.00000    30.000000  203.000000  165.000000   \n",
       "\n",
       "       Number of siblings  \n",
       "count         1004.000000  \n",
       "mean             1.297809  \n",
       "std              1.013348  \n",
       "min              0.000000  \n",
       "25%              1.000000  \n",
       "50%              1.000000  \n",
       "75%              2.000000  \n",
       "max             10.000000  \n",
       "\n",
       "[8 rows x 139 columns]"
      ]
     },
     "execution_count": 3,
     "metadata": {},
     "output_type": "execute_result"
    }
   ],
   "source": [
    "responses = pd.read_csv('archive/responses.csv')\n",
    "\n",
    "responses.describe()"
   ]
  },
  {
   "cell_type": "markdown",
   "id": "eedc7d9d",
   "metadata": {},
   "source": [
    "## Custom Functions"
   ]
  },
  {
   "cell_type": "code",
   "execution_count": null,
   "id": "c223e858",
   "metadata": {
    "code_folding": []
   },
   "outputs": [],
   "source": [
    "def crosstab_chi2(index, columns, alpha_signif):\n",
    "    ''' The function will return the chi-squared test statistic, associated p-value,\n",
    "        degrees of freedom, and the expected freq array.\n",
    "        \n",
    "    Parameters\n",
    "    -----------\n",
    "    index : Column 1 of dataframe that is not subject to change. i.e : Gender\n",
    "    \n",
    "    columns : Column 2 of dataframe that you want to check if dependent on index.\n",
    "    \n",
    "    alpha_signif : The chosen level of signficance to keep in mind.\n",
    "    \n",
    "    Returns\n",
    "    --------\n",
    "    Tuple(chi2_test_stat, p_val, dof, expec_freq_arr)\n",
    "    \n",
    "    '''\n",
    "    \n",
    "    crosstab = pd.crosstab(index, columns)\n",
    "    #display(crosstab)\n",
    "    \n",
    "    # Expected frequencies for the n-dimensional contingency table based on the \n",
    "    # marginal sums under the assumption that the groups associated with each \n",
    "    # dimension are independent.\n",
    "    \n",
    "    (chi2_test_stat, p_val, dof, expec_freq_arr) = stats.chi2_contingency(crosstab)\n",
    "\n",
    "    return (chi2_test_stat, p_val, dof, expec_freq_arr) \n",
    "\n",
    "\n",
    "def bonferroni_adjustment(dataframe, alpha_sig):\n",
    "    ''' The function will return the Bonferroni-Corrected p-values for multiple tests,\n",
    "    the corrected alpha for the Bonferroni method, and the boolean for if a hypothesis \n",
    "    can be rejected given alpha.\n",
    "    \n",
    "    Parameters\n",
    "    -----------\n",
    "    dataframe : A data frame with columns[:len(df-1)] of variables you want to test\n",
    "    versus the last column[:-1].\n",
    "    alpha_sig : The chosen level of significance.\n",
    "    \n",
    "    Returns\n",
    "    --------\n",
    "    reject_arr : an array of bool for the hypotheses that can be rejected given alpha\n",
    "    \n",
    "    pval_corrected : an array of p-values corrected for multiple tests\n",
    "    \n",
    "    alphaC_bonf : corrected alpha for Bonferroni method\n",
    "    '''\n",
    "    \n",
    "    p_val_arr = []\n",
    "    reject_arr = []\n",
    "    \n",
    "    for column in dataframe:\n",
    "        (chi2_test_stat, p_val, dof, expec_freq_arr) = crosstab_chi2(dataframe.iloc[:, -1], dataframe[column], 0.05)\n",
    "        p_val_arr.append(p_val)\n",
    "    \n",
    "    \n",
    "    \n",
    "    (reject_arr, pval_corrected, alphaC_sidak, \n",
    "     alphaC_bonf) = sm.stats.multitest.multipletests(p_val_arr,\n",
    "                                                     alpha=0.05, \n",
    "                                                     method='bonferroni', \n",
    "                                                     is_sorted=False, \n",
    "                                                     returnsorted=False)\n",
    "    print(reject_arr, pval_corrected, alphaC_bonf)\n",
    " "
   ]
  },
  {
   "cell_type": "markdown",
   "id": "5869a276",
   "metadata": {},
   "source": [
    "## Getting the Dataframes"
   ]
  },
  {
   "cell_type": "code",
   "execution_count": 4,
   "id": "087fbe17",
   "metadata": {},
   "outputs": [
    {
     "data": {
      "text/html": [
       "<div>\n",
       "<style scoped>\n",
       "    .dataframe tbody tr th:only-of-type {\n",
       "        vertical-align: middle;\n",
       "    }\n",
       "\n",
       "    .dataframe tbody tr th {\n",
       "        vertical-align: top;\n",
       "    }\n",
       "\n",
       "    .dataframe thead th {\n",
       "        text-align: right;\n",
       "    }\n",
       "</style>\n",
       "<table border=\"1\" class=\"dataframe\">\n",
       "  <thead>\n",
       "    <tr style=\"text-align: right;\">\n",
       "      <th></th>\n",
       "      <th>Age</th>\n",
       "      <th>Height</th>\n",
       "      <th>Weight</th>\n",
       "      <th>Number of siblings</th>\n",
       "      <th>Gender</th>\n",
       "      <th>Left - right handed</th>\n",
       "      <th>Education</th>\n",
       "      <th>Only child</th>\n",
       "      <th>Village - town</th>\n",
       "      <th>House - block of flats</th>\n",
       "    </tr>\n",
       "  </thead>\n",
       "  <tbody>\n",
       "    <tr>\n",
       "      <th>145</th>\n",
       "      <td>19.0</td>\n",
       "      <td>165.0</td>\n",
       "      <td>78.0</td>\n",
       "      <td>1.0</td>\n",
       "      <td>female</td>\n",
       "      <td>right handed</td>\n",
       "      <td>secondary school</td>\n",
       "      <td>no</td>\n",
       "      <td>village</td>\n",
       "      <td>house/bungalow</td>\n",
       "    </tr>\n",
       "    <tr>\n",
       "      <th>274</th>\n",
       "      <td>22.0</td>\n",
       "      <td>170.0</td>\n",
       "      <td>60.0</td>\n",
       "      <td>0.0</td>\n",
       "      <td>female</td>\n",
       "      <td>right handed</td>\n",
       "      <td>secondary school</td>\n",
       "      <td>yes</td>\n",
       "      <td>city</td>\n",
       "      <td>house/bungalow</td>\n",
       "    </tr>\n",
       "  </tbody>\n",
       "</table>\n",
       "</div>"
      ],
      "text/plain": [
       "      Age Height Weight Number of siblings  Gender Left - right handed  \\\n",
       "145  19.0  165.0   78.0                1.0  female        right handed   \n",
       "274  22.0  170.0   60.0                0.0  female        right handed   \n",
       "\n",
       "            Education Only child Village - town House - block of flats  \n",
       "145  secondary school         no        village         house/bungalow  \n",
       "274  secondary school        yes           city         house/bungalow  "
      ]
     },
     "execution_count": 4,
     "metadata": {},
     "output_type": "execute_result"
    }
   ],
   "source": [
    "demographics = pd.DataFrame([responses[x] for x in list(responses)[140:]]).transpose()\n",
    "demographics.sample(2)"
   ]
  },
  {
   "cell_type": "code",
   "execution_count": 5,
   "id": "1be78e87",
   "metadata": {},
   "outputs": [],
   "source": [
    "preferences = pd.DataFrame([responses[x] for x in list(responses)[:140]]).transpose()\n",
    "preferences = preferences.rename(columns = mydict)\n",
    "# preferences.sample(2)"
   ]
  },
  {
   "cell_type": "code",
   "execution_count": 6,
   "id": "072ceb0b",
   "metadata": {},
   "outputs": [],
   "source": [
    "phobias = pd.DataFrame([preferences[x] for x in list(preferences)[63:73]]).transpose()\n",
    "phobias1 = phobias.copy()\n",
    "phobias1['Gender'] = demographics['Gender']\n",
    "# phobias1.sample(13)"
   ]
  },
  {
   "cell_type": "code",
   "execution_count": null,
   "id": "542e73f4",
   "metadata": {
    "scrolled": true
   },
   "outputs": [],
   "source": [
    "for column in phobias1:\n",
    "        print(crosstab_chi2(phobias1.iloc[:, -1], phobias1[column], 0.05))"
   ]
  },
  {
   "cell_type": "markdown",
   "id": "2c6b22db",
   "metadata": {},
   "source": [
    "## Bon-Correction"
   ]
  },
  {
   "cell_type": "code",
   "execution_count": null,
   "id": "708d1f0f",
   "metadata": {},
   "outputs": [],
   "source": [
    "bonferroni_adjustment(phobias1, 0.05)"
   ]
  },
  {
   "cell_type": "code",
   "execution_count": null,
   "id": "30f19c75",
   "metadata": {},
   "outputs": [],
   "source": [
    "male_phob1 = phobias.copy()\n",
    "male_phob1['Gender'] = demographics['Gender']\n",
    "male_phob1 = male_phob1.loc[male_phob1['Gender'] == 'male'].copy()\n",
    "arr_m = np.array([male_phob1['Flying'].value_counts().sort_index()])\n",
    "female_phob1 = phobias.copy()\n",
    "female_phob1['Gender'] = demographics['Gender']\n",
    "female_phob1 = female_phob1.loc[female_phob1['Gender'] == 'female'].copy()\n",
    "arr_f = np.array([female_phob1['Flying'].value_counts().sort_index()])"
   ]
  },
  {
   "cell_type": "code",
   "execution_count": null,
   "id": "6e0c71b8",
   "metadata": {
    "code_folding": []
   },
   "outputs": [],
   "source": [
    "#1 - 2 - 7\n",
    "fig = plt.figure(figsize = (9, 10))\n",
    "ax = fig.add_subplot(111, projection =\"3d\")\n",
    "\n",
    "\n",
    "x = np.array([1,2])\n",
    "\n",
    "y = np.array([1,2, 3, 4, 5])              # correct\n",
    "\n",
    "xpos, ypos = np.meshgrid(x, y)\n",
    "\n",
    "z = np.array([arr_m.flatten(), arr_f.flatten()])\n",
    "\n",
    "xpos = xpos.flatten()\n",
    "ypos = ypos.flatten()\n",
    "\n",
    "# colors = ['b', 'g'] *3\n",
    "zpos = np.zeros_like(xpos)\n",
    "\n",
    "dx = 0.5*np.ones_like(zpos)\n",
    "dy = dx.copy()\n",
    "dz = np.array([241, 222, 132, 73, 133, 74, 50, 20, 36, 20])\n",
    "\n",
    "\n",
    "ax.set_xticks([2.25, 1.25])\n",
    "ax.set_xticklabels(['Male', 'Female'])\n",
    "\n",
    "ax.set_yticks([1, 2, 3, 4, 5])\n",
    "ax.set_yticklabels(['1.0', '2.0', '3.0', '4.0', '5.0'])\n",
    "\n",
    "# ax.set_xlim()\n",
    "# ax.set_ylim()\n",
    "\n",
    "ax.set_zlim(0,250)\n",
    "\n",
    "ax.view_init(azim = 45)\n",
    "\n",
    "\n",
    "ax.set_title(\"Fear of Flying by Gender\", fontsize =20)\n",
    "ax.set_xlabel(\"Gender\", labelpad =10)\n",
    "ax.set_ylabel(\"Likert Value\", labelpad =10)\n",
    "ax.set_zlabel(\"Count\", labelpad = 10)\n",
    "\n",
    "ax.bar3d(xpos, ypos, zpos, dx, dy, dz)\n",
    "# plt.tight_layout()\n",
    "plt.show()\n",
    "\n",
    "plt.savefig(\"img/FearvsGender.png\")"
   ]
  },
  {
   "cell_type": "code",
   "execution_count": null,
   "id": "a007a752",
   "metadata": {},
   "outputs": [],
   "source": [
    "!pip install jupyterthemes\n",
    "\n",
    "from jupyterthemes import get_themes\n",
    "import jupyterthemes as jt\n",
    "from jupyterthemes.stylefx import set_nb_theme\n",
    "\n",
    "set_nb_theme('chesterish')"
   ]
  },
  {
   "cell_type": "code",
   "execution_count": null,
   "id": "7b0ae233",
   "metadata": {},
   "outputs": [],
   "source": []
  }
 ],
 "metadata": {
  "celltoolbar": "Slideshow",
  "hide_input": false,
  "kernelspec": {
   "display_name": "Python 3",
   "language": "python",
   "name": "python3"
  },
  "language_info": {
   "codemirror_mode": {
    "name": "ipython",
    "version": 3
   },
   "file_extension": ".py",
   "mimetype": "text/x-python",
   "name": "python",
   "nbconvert_exporter": "python",
   "pygments_lexer": "ipython3",
   "version": "3.8.8"
  },
  "toc": {
   "base_numbering": 1,
   "nav_menu": {},
   "number_sections": true,
   "sideBar": true,
   "skip_h1_title": false,
   "title_cell": "Table of Contents",
   "title_sidebar": "Contents",
   "toc_cell": false,
   "toc_position": {},
   "toc_section_display": true,
   "toc_window_display": false
  },
  "varInspector": {
   "cols": {
    "lenName": 16,
    "lenType": 16,
    "lenVar": 40
   },
   "kernels_config": {
    "python": {
     "delete_cmd_postfix": "",
     "delete_cmd_prefix": "del ",
     "library": "var_list.py",
     "varRefreshCmd": "print(var_dic_list())"
    },
    "r": {
     "delete_cmd_postfix": ") ",
     "delete_cmd_prefix": "rm(",
     "library": "var_list.r",
     "varRefreshCmd": "cat(var_dic_list()) "
    }
   },
   "types_to_exclude": [
    "module",
    "function",
    "builtin_function_or_method",
    "instance",
    "_Feature"
   ],
   "window_display": false
  }
 },
 "nbformat": 4,
 "nbformat_minor": 5
}
