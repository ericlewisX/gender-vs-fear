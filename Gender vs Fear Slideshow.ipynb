{
 "cells": [
  {
   "cell_type": "markdown",
   "id": "ddcfb96b",
   "metadata": {
    "slideshow": {
     "slide_type": "slide"
    }
   },
   "source": [
    "# Gender vs Phobias\n",
    "\n",
    "\n",
    "### Author : Eric H. Lewis\n",
    "\n",
    "Last update: 6/11/2021"
   ]
  },
  {
   "cell_type": "markdown",
   "id": "5b413bb6",
   "metadata": {
    "slideshow": {
     "slide_type": "slide"
    }
   },
   "source": [
    "## Table of Contents \n",
    "\n",
    "* Objective / Use-Cases\n",
    "* Data / Data Cleaning\n",
    "* Exploratory Data Analysis\n",
    "    * Hypothesis Testing\n",
    "* Results\n",
    "* Conclusions"
   ]
  },
  {
   "cell_type": "markdown",
   "id": "e325f3b9",
   "metadata": {
    "slideshow": {
     "slide_type": "slide"
    }
   },
   "source": [
    "## Objective \n",
    "\n",
    "---\n",
    "\n",
    "Is there power in key demographics?\n",
    "\n",
    "_ |_\n",
    ":-------------------------:|:-------------------------:\n",
    "![Imgur](https://i.imgur.com/sshvZGd.png)| ![Imgur](https://i.imgur.com/K4AabGL.png)"
   ]
  },
  {
   "cell_type": "markdown",
   "id": "d56915b0",
   "metadata": {
    "slideshow": {
     "slide_type": "slide"
    }
   },
   "source": [
    "## Data & Data Cleaning \n",
    "\n",
    "The data that is being used is the [Young People Survey](https://www.kaggle.com/miroslavsabo/young-people-survey?select=responses.csv) dataset. \n",
    "Students of the Statistics class at FSEV UK in Slovakia asked people they knew to participate in the survey.\n",
    "\n",
    "* Over 1000 survey participants.\n",
    "* Electronic and Written form.\n",
    "* All participants were of Slovakian nationality, aged between 15-30\n",
    "\n",
    "\n",
    "\n"
   ]
  },
  {
   "cell_type": "markdown",
   "id": "6f119960",
   "metadata": {
    "slideshow": {
     "slide_type": "slide"
    }
   },
   "source": [
    "## Feature Selection\n",
    "\n",
    "Demographics of Interest\n",
    "\n",
    "* Gender\n",
    "\n",
    "Category\n",
    "* Phobias\n",
    "\n",
    "Demographics not Chosen\n",
    "* Age"
   ]
  },
  {
   "cell_type": "markdown",
   "id": "433686ca",
   "metadata": {
    "hide_input": false,
    "slideshow": {
     "slide_type": "slide"
    }
   },
   "source": [
    "#### Demographics that were not chosen:\n",
    "_ |_\n",
    ":-------------------------:|:-------------------------:\n",
    "![Imgur](https://i.imgur.com/O33bAmX.png) | ![Imgur](https://i.imgur.com/9QKhE8B.png)\n"
   ]
  },
  {
   "cell_type": "markdown",
   "id": "bf71d105",
   "metadata": {
    "slideshow": {
     "slide_type": "slide"
    }
   },
   "source": [
    "###### Data Sample\n",
    "\n",
    "![Imgur](https://i.imgur.com/8zgInip.png)\n",
    "\n",
    "\n",
    "\n",
    "![Imgur](https://i.imgur.com/0w8HGA2.png)"
   ]
  },
  {
   "cell_type": "markdown",
   "id": "f12fca2c",
   "metadata": {
    "slideshow": {
     "slide_type": "slide"
    }
   },
   "source": [
    "## Exploratory Data Analysis\n",
    "### Hypothesis Testing\n",
    "\n",
    "\n",
    "\n",
    "###### Null Hypothesis:\n",
    "    \n",
    "$H_0$ : Phobias are independent of a person's Gender.\n",
    "    \n",
    "\n",
    "###### Alternate Hypothesis:\n",
    "\n",
    "\n",
    "$H_1$ : Phobias and Gender are not independent and there exists a relationship between them.\n",
    "\n"
   ]
  },
  {
   "cell_type": "markdown",
   "id": "4996f8ad",
   "metadata": {
    "hide_input": true,
    "slideshow": {
     "slide_type": "slide"
    }
   },
   "source": [
    "\n",
    "## $\\chi^2$ test of independence \n",
    "\n",
    "$$\\chi^2 = \\sum \\frac{(O_i - E_i)^2}{E_i}$$\n",
    "\n",
    "$$\\alpha = 0.05 $$ \n",
    "\n",
    "\n",
    "## Bonferroni Corrected p-value\n",
    "\n",
    "$$Bonferroni \\ corrected \\ p-value = \\frac{p_0}{n}$$\n",
    "\n",
    "$$where: \\ \\ \\ \\ p_0 = original \\ p-value$$ \n",
    "$$n = \\# \\ of \\ tests \\ performed$$ "
   ]
  },
  {
   "cell_type": "markdown",
   "id": "1234eebc",
   "metadata": {
    "slideshow": {
     "slide_type": "slide"
    }
   },
   "source": [
    "_ |_\n",
    ":-------------------------:|:-------------------------:\n",
    "![Imgur](https://i.imgur.com/3skCNll.png) | ![Imgur](https://i.imgur.com/55i3dFx.png)"
   ]
  },
  {
   "cell_type": "markdown",
   "id": "90a07445",
   "metadata": {
    "hide_input": true,
    "slideshow": {
     "slide_type": "slide"
    }
   },
   "source": [
    "## Cross Tabulation \n",
    "_ |_\n",
    ":-------------------------:|:-------------------------:\n",
    "![Imgur](https://i.imgur.com/IfMXRxj.png) |![Imgur](https://i.imgur.com/eqLbPEA.png)\n",
    "\n",
    "<!-- <img src=\"img/gendervsflying.png\" width=\"350\" align=\"center\"/>\n",
    "<img src=\"img/Fear2.png\" width=\"500\" align=\"center\"/> -->"
   ]
  },
  {
   "cell_type": "markdown",
   "id": "ac0b977f",
   "metadata": {
    "slideshow": {
     "slide_type": "slide"
    }
   },
   "source": [
    "## crosstab_chi2\n",
    "\n",
    "![Imgur](https://i.imgur.com/xFHZL3j.png)\n",
    "\n",
    "## Crosstab Output\n",
    "\n",
    "![Imgur](https://i.imgur.com/bNOgM4U.png)\n"
   ]
  },
  {
   "cell_type": "markdown",
   "id": "715124d0",
   "metadata": {
    "slideshow": {
     "slide_type": "slide"
    }
   },
   "source": [
    "## bonferroni_adjustment\n",
    "\n",
    "![Imgur](https://i.imgur.com/TfilGMe.png)"
   ]
  },
  {
   "cell_type": "markdown",
   "id": "ed847245",
   "metadata": {
    "slideshow": {
     "slide_type": "slide"
    }
   },
   "source": [
    "### Results\n",
    "\n",
    "|  Original Alpha | Corrected Alpha for Bonferroni method |\n",
    "| :---: | :---: |\n",
    "| 0.05 | 0.004545454545454546 |\n",
    "\n",
    "| Gender vs Phobia | Original p-val | Bonferroni Corrected p-val| Reject Null? |\n",
    "| :---: | :---: | :---: | :---: |\n",
    "| Flying             | 7.208e-04  | 7.93e-03 | True |\n",
    "| Thunder, Lightning | 4.6241𝑒−22 | 5.09e-21 | True |\n",
    "| Darkness           | 9.9074𝑒−23 | 1.09e-21 | True |\n",
    "| Heights            | 0.0989     | 1.0      | False|\n",
    "| Spiders            | 6.432𝑒−24  | 7.08e-23 | True |\n",
    "| Snakes             | 1.531𝑒−11  | 1.68e-10 | True |\n",
    "| Rats, Mice         | 2.724𝑒−15  | 2.99e-14 | True |\n",
    "| Ageing             | 1.289𝑒−05  | 1.42e-04 | True |\n",
    "| Dangerous Dogs     | 6.972𝑒−10  | 7.67e-09 | True |\n",
    "| Public Speaking    | 2.502e-04  | 2.75e-03 | True |\n"
   ]
  },
  {
   "cell_type": "markdown",
   "id": "c8f6e3d6",
   "metadata": {
    "slideshow": {
     "slide_type": "slide"
    }
   },
   "source": [
    "## Conclusions\n",
    "\n",
    "There is a relationship between the Gender demographics and a person's phobias.\n",
    "\n",
    "* Future-Steps "
   ]
  },
  {
   "cell_type": "markdown",
   "id": "a45d3ed4",
   "metadata": {
    "slideshow": {
     "slide_type": "slide"
    }
   },
   "source": [
    "# The End"
   ]
  }
 ],
 "metadata": {
  "celltoolbar": "Slideshow",
  "hide_input": false,
  "kernelspec": {
   "display_name": "Python 3",
   "language": "python",
   "name": "python3"
  },
  "language_info": {
   "codemirror_mode": {
    "name": "ipython",
    "version": 3
   },
   "file_extension": ".py",
   "mimetype": "text/x-python",
   "name": "python",
   "nbconvert_exporter": "python",
   "pygments_lexer": "ipython3",
   "version": "3.8.8"
  },
  "toc": {
   "base_numbering": 1,
   "nav_menu": {},
   "number_sections": true,
   "sideBar": true,
   "skip_h1_title": false,
   "title_cell": "Table of Contents",
   "title_sidebar": "Contents",
   "toc_cell": false,
   "toc_position": {},
   "toc_section_display": true,
   "toc_window_display": false
  },
  "varInspector": {
   "cols": {
    "lenName": 16,
    "lenType": 16,
    "lenVar": 40
   },
   "kernels_config": {
    "python": {
     "delete_cmd_postfix": "",
     "delete_cmd_prefix": "del ",
     "library": "var_list.py",
     "varRefreshCmd": "print(var_dic_list())"
    },
    "r": {
     "delete_cmd_postfix": ") ",
     "delete_cmd_prefix": "rm(",
     "library": "var_list.r",
     "varRefreshCmd": "cat(var_dic_list()) "
    }
   },
   "types_to_exclude": [
    "module",
    "function",
    "builtin_function_or_method",
    "instance",
    "_Feature"
   ],
   "window_display": false
  }
 },
 "nbformat": 4,
 "nbformat_minor": 5
}
